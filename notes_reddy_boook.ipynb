{
 "cells": [
  {
   "cell_type": "markdown",
   "id": "00b002b6",
   "metadata": {},
   "source": [
    "Notes From \n",
    "\n",
    "`` \n",
    "Applied functional analysus abd variational methods in engineering\n",
    "J.N. Reddy\n",
    "ISBN 0-07-051348-1\n",
    "``"
   ]
  },
  {
   "cell_type": "markdown",
   "id": "083b9741",
   "metadata": {},
   "source": [
    "# Notes on Chapter 1"
   ]
  },
  {
   "cell_type": "markdown",
   "id": "a55207e5",
   "metadata": {},
   "source": [
    "<span style=\"font-family:Papyrus; font-size:3em;\">brachistochrone problem !</span>"
   ]
  },
  {
   "cell_type": "markdown",
   "id": "fef1dec6",
   "metadata": {},
   "source": [
    "Posed by Jonh Bernouilli in 1696 :\n",
    "\n",
    "``\n",
    "Determine the curve joining the two points A:(0,0) and B:(a,b) in a vertical plane such that a material particle of mass m, sliding without friction under its own weight, travels from point A to point B in the shortest (i.e. mininum) possible time.\n",
    "``"
   ]
  },
  {
   "cell_type": "markdown",
   "id": "750cfff1",
   "metadata": {},
   "source": [
    "![](reddy_fig_1.jpg)"
   ]
  },
  {
   "cell_type": "markdown",
   "id": "f2310ddb",
   "metadata": {},
   "source": [
    "From the energy conservation between point A and point C, we have :\n",
    "$$ \\Delta E = E_C - E_A = mgy + \\frac{1}{2}mv^2.$$\n",
    "Thus\n",
    "$$ v=\\sqrt{-2gy}, \\; y\\leqslant0$$\n",
    "Using the fact that $v=\\frac{ds}{dt}$, and that $y=u(x)$, we have\n",
    "$$\n",
    "\\begin{align}\n",
    "v&=\\frac{ds}{dt},\\\\\n",
    "&=\\frac{\\sqrt{(dx)^2 + (dy)^2}}{dt} = \\sqrt{1+\\left(\\frac{du}{dx}\\right)^2}\\;\\frac{dx}{dt}=\\sqrt{1+(u')^2}\\;\\frac{dx}{dt}.\n",
    "\\end{align}$$\n",
    "The time taken by the particle in traveling a distance $ds$ is then\n",
    "$$ \n",
    "\\begin{align}\n",
    "dt &= \\frac{\\sqrt{1+(u')^2}}{v}\\;dx \\\\\n",
    "&=\\sqrt{\\frac{1+(u')^2}{-2gu}}\\;dx\n",
    "\\end{align}$$\n",
    "For comodity, we invert the $y$ axis, and finally found\n",
    "$$dt=\\sqrt{\\frac{1+(u')^2}{2gu}}\\;dx$$\n",
    "The total time taken by a particle in going from point A to point B is given by\n",
    "$$T=\\int_0^a \\sqrt{\\frac{1+(u')^2}{2gu}}\\;dx$$\n",
    "\n",
    "Thus, the brachistochrone problem is reduced to the following variational problem : find a function $u(x)$ within the class of functions with continuous derivatives (so that T can be evaluated) which satisfies the *end conditions*\n",
    "$$u(0)=0 \\;\\; u(a)=b$$"
   ]
  },
  {
   "cell_type": "markdown",
   "id": "a2284608",
   "metadata": {},
   "source": [
    "Let's define J(u) the following functional :\n",
    "$$\n",
    "\\begin{align}\n",
    "J(u)&=\\int_a^bf(x,u,u')dx, \\\\\n",
    "u(a)&=A \\; u(b)=B.\n",
    "\\end{align}$$\n",
    "In the brachistochrone's problem, $f(x,u,u')=\\sqrt{\\frac{1+(u')^2}{2gu}}$. \n",
    "\n",
    "Let $u^*$ the solution the minimization problem, that is to say which minimize $J(u)$. \n",
    "\n",
    "We decompose the function $u(x)$ in two parts : the first one is the solution $u^*(x)$, and the second part is a small variations around it defined as $v(x)$, as :\n",
    "$$\n",
    "\\begin{align}\n",
    "u(x)&=u^*(x) + \\varepsilon v(x), \\; \\text{with  } 0\\leqslant \\varepsilon \\lt 1. \\\\\n",
    "v(a)&=0 \\;\\; v(b)=0\n",
    "\\end{align}$$\n",
    "Replacing this expression in the functional J(u) gives\n",
    "$$\n",
    "\\begin{align}\n",
    "J(u)=\\int_a^bf(x,u^*+\\varepsilon v,(u^*)'+\\varepsilon v')dx \\\\\n",
    "\\end{align}$$\n",
    "\n",
    "We define \n",
    "$$g(\\varepsilon) = \\int_a^bf(x,u^*+\\varepsilon v,(u^*)'+\\varepsilon v')dx.$$\n",
    "\n",
    "An important property is that $g(\\varepsilon) \\geqslant J(u^*)=g(0)$, as $u^*$ is the minimizer of the functional $J$, and therefore, the functional $g$ has a minimum at $\\varepsilon = 0$.\n",
    "And we have then \n",
    "$$\\left.\\frac{dg}{d\\varepsilon}\\right|_{\\varepsilon=0} = 0.$$\n",
    "In order to compute this derivative, we will do a taylor expansion of $g(\\varepsilon).$ We first recall the Taylor formula for a multivaluate foncton $r(x,y,z)$, that is :\n",
    "$$\n",
    "f(x+a,y+b,z+c)=f(x,y,z)+a\\frac{df}{dx}(x,y,z)+b\\frac{df}{dy}(x,y,z)+c\\frac{df}{dz}(x,y,z)+... +O(?)\n",
    "$$\n",
    "We apply this formula at our problem, which gives\n",
    "$$\n",
    "\\begin{align}\n",
    "    g(\\varepsilon)&=\\int_a^b f(x,u^*+\\varepsilon v,(u^*)'+\\varepsilon v')dx \\\\\n",
    "    &= \\int_a^b \\left( f(x,u^*,(u^*)') + \\varepsilon v \\frac{df}{du^*} + \\varepsilon v' \\frac{df}{d(u^*)'} + ...\\right)  dx\\\\\n",
    "    \\left.\\frac{dg}{d\\varepsilon}\\right|_{\\varepsilon=0} &= \\frac{d}{d\\varepsilon} \\int_a^b \\left( f(x,u^*,(u^*)') + \\varepsilon v \\frac{df}{du^*} + \\varepsilon v' \\frac{df}{d(u^*)'} + ...\\right)  dx\n",
    "\\end{align}$$\n",
    "\n",
    "As $\\varepsilon$ does not depend on $x$, we can put the derivative operator in the integral\n",
    "$$\n",
    "\\begin{align}\n",
    "    \\left.\\frac{dg}{d\\varepsilon}\\right|_{\\varepsilon=0} &=  \\int_a^b \\frac{d}{d\\varepsilon} \\left( f(x,u^*,(u^*)') + \\varepsilon v \\frac{df}{du^*} + \\varepsilon v' \\frac{df}{d(u^*)'} \\right)  dx \\\\\n",
    "    &= \\int_a^b \\left( v \\frac{df}{du^*} + v' \\frac{df}{d(u^*)'} \\right)  dx \\\\\n",
    "\\end{align}$$\n",
    "\n",
    "We are looking at evaluating $\\int v' \\frac{df}{d(u^*)'}dx$. By integration by part, we find :\n",
    "\n",
    "$$\n",
    "\\begin{align}\n",
    "     \\int_a^b v' \\frac{df}{d(u^*)'}dx &= \\left[v \\frac{df}{d(u^*)'}\\right]_a^b - \\int_a^b v \\frac{d}{dx} \\left( \\frac{df}{d(u^*)'} \\right) dx\n",
    "\\end{align}$$\n",
    "As $v(a)=v(b)=0$, and putting this expression in $dg/d\\varepsilon$, we find :\n",
    "$$\n",
    "\\begin{align}\n",
    "    \\left.\\frac{dg}{d\\varepsilon}\\right|_{\\varepsilon=0} &= \\int_a^b v\\left[\\frac{df}{du^*} - \\frac{d}{dx} \\left( \\frac{df}{d(u^*)'} \\right)\\right] dx \\\\\n",
    "    &= 0\n",
    "\\end{align}$$\n",
    "The last expression is valid for any $v(x)$ with $v(a)=v(b)=0$. We use here the Fundamental Lemma of Variational Calculus, and find\n",
    "$$\n",
    "\\frac{df}{du^*} - \\frac{d}{dx} \\left( \\frac{df}{d(u^*)'} \\right) = 0\n",
    "$$"
   ]
  },
  {
   "cell_type": "markdown",
   "id": "d7d4583b",
   "metadata": {},
   "source": [
    "This is the Euler-Lagrange equation!"
   ]
  },
  {
   "cell_type": "markdown",
   "id": "6afb03db",
   "metadata": {},
   "source": [
    "Recall of the Fundamental Lemma of Variational Calculus :\n",
    ">Lemma of Variational Calculus\n",
    ">\n",
    ">If a continuous function $f$ on an open interval $(a,b)$ satisfies the equality\n",
    ">$$\\int_a^b f(x)h(x)dx=0$$\n",
    ">for all compactly supported smooth functions $h$ on $(a,b)$ then $f$ is identically zero."
   ]
  },
  {
   "cell_type": "markdown",
   "id": "f0c72822",
   "metadata": {},
   "source": [
    "The Euler-Lagrange associated theorem is then\n",
    ">Thereom\n",
    ">\n",
    ">Let $F$ be a functional  defined in $\\Omega=]a,b[$, and $f \\in \\mathcal{C}^2(]a,b[)$ be an extremum of this functional, with the fixed boundary conditions\n",
    ">$$f(x_1)=f_1 \\;\\; f(x_2)=f_2.$$\n",
    ">then $f$ necessarily satisfies the following differential equation\n",
    ">$$\\frac{dF}{df}-\\frac{d}{dx}\\frac{dF}{df'}=0.$$\n",
    ">called the associated Euler-Lagrange equation "
   ]
  },
  {
   "cell_type": "markdown",
   "id": "b29e77ec",
   "metadata": {},
   "source": [
    "We apply this Theorem to the brachistochrone problem, which is, find u which minimize the following functional\n",
    "$$\n",
    "\\begin{align}\n",
    "    T(u)&=\\int_0^a \\sqrt{\\frac{1+(u')^2}{2gu}}\\;dx=\\frac{1}{\\sqrt{2g}}\\int_0^a \\sqrt{\\frac{1+(u')^2}{u}}\\;dx \\\\\n",
    "    &= \\frac{1}{\\sqrt{2g}} \\int_0^a f(x,u,u')\\; dx \\\\\n",
    "\\end{align}$$\n",
    "\n"
   ]
  },
  {
   "cell_type": "markdown",
   "id": "c707ab7d",
   "metadata": {},
   "source": [
    "https://www.i2m.univ-amu.fr/~torresan/MathPhy/cours/node3.html#SECTION0012200000000000000000"
   ]
  },
  {
   "cell_type": "markdown",
   "id": "2155dbd9",
   "metadata": {},
   "source": [
    "Special case : Beltrami equation\n",
    "\n",
    "Another situation in which things get simpler is when $f$ does not depend explicitly on $x$, i.e. f is a function of $u$ and $u'$, as $f(u,u')$. In this case, we can write, $F$ the functional\n",
    "\n",
    "$$\n",
    "    \\frac{d}{dx}F(f(x),f'(x)) = f'(x)\\frac{dF}{df}(f(x),f'(x)) + f\"(x)\\frac{dF}{d(f')}(f(x),f'(x))\n",
    "$$\n",
    "\n",
    "We thus find that\n",
    "$$\n",
    "    f'\\frac{dF}{df}=\\frac{d}{dx}F - f\"\\frac{dF}{d(f')}\n",
    "$$\n",
    "\n",
    "We find, using the Euler-lagrange theorem, multiplied by $f'$, that :\n",
    "$$\n",
    "    f'\\frac{dF}{df}=f'\\frac{d}{dx}\\frac{dF}{df'}\n",
    "$$\n",
    "\n",
    "combining the 2 last equations, we find\n",
    "$$\n",
    "    f'\\frac{d}{dx}\\frac{dF}{df'}=\\frac{d}{dx}F - f\"\\frac{dF}{d(f')}\n",
    "$$\n",
    "\n",
    "Which leads to\n",
    "$$\n",
    "\\begin{align}\n",
    "    \\frac{d}{dx}F &= f'\\frac{d}{dx}\\frac{dF}{df'}+f\"\\frac{dF}{d(f')} \\\\\n",
    "    &= \\frac{d}{dx}f' \\frac{dF}{df'}\n",
    "\\end{align}$$\n",
    "\n",
    "Finally, we have the Beltrami equation\n",
    "$$\n",
    "    \\frac{d}{dx}F(f(x),f'(x)) - \\frac{d}{dx}f'(x) \\frac{dF}{df'}(f(x),f'(x)) = 0\n",
    "$$"
   ]
  },
  {
   "cell_type": "markdown",
   "id": "7628112c",
   "metadata": {},
   "source": [
    "> Proposition\n",
    ">\n",
    "> If the function $F$ does not depend on the variable $x$, then the Euler-Lagrange Equation comes down to the Beltrami Equation, which is :\n",
    "> $$\n",
    "    \\frac{d}{dx}F(f(x),f'(x)) - \\frac{d}{dx}f'(x) \\frac{dF}{df'}(f(x),f'(x)) = C,\n",
    "$$\n",
    "with C a constant."
   ]
  },
  {
   "cell_type": "code",
   "execution_count": null,
   "id": "76ec77a4",
   "metadata": {},
   "outputs": [],
   "source": []
  },
  {
   "cell_type": "code",
   "execution_count": null,
   "id": "c3282ec8",
   "metadata": {},
   "outputs": [],
   "source": []
  },
  {
   "cell_type": "code",
   "execution_count": null,
   "id": "4c48e2de",
   "metadata": {},
   "outputs": [],
   "source": []
  }
 ],
 "metadata": {
  "kernelspec": {
   "display_name": "Python 3",
   "language": "python",
   "name": "python3"
  },
  "language_info": {
   "codemirror_mode": {
    "name": "ipython",
    "version": 3
   },
   "file_extension": ".py",
   "mimetype": "text/x-python",
   "name": "python",
   "nbconvert_exporter": "python",
   "pygments_lexer": "ipython3",
   "version": "3.9.5"
  },
  "toc": {
   "base_numbering": 1,
   "nav_menu": {},
   "number_sections": true,
   "sideBar": true,
   "skip_h1_title": false,
   "title_cell": "Table of Contents",
   "title_sidebar": "Contents",
   "toc_cell": false,
   "toc_position": {},
   "toc_section_display": true,
   "toc_window_display": false
  }
 },
 "nbformat": 4,
 "nbformat_minor": 5
}
